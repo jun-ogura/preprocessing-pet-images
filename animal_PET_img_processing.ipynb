{
  "nbformat": 4,
  "nbformat_minor": 0,
  "metadata": {
    "colab": {
      "name": "animal_PET_img_processing.ipynb",
      "provenance": [],
      "mount_file_id": "1_z6Ac1XNPmZcplmjWxkmVe0315663AYY",
      "authorship_tag": "ABX9TyMiq5Nw7apdG7M0aNFcGKjI"
    },
    "kernelspec": {
      "name": "python3",
      "display_name": "Python 3"
    },
    "language_info": {
      "name": "python"
    }
  },
  "cells": [
    {
      "cell_type": "markdown",
      "source": [
        "[![Open In Colab](https://colab.research.google.com/assets/colab-badge.svg)](http://colab.research.google.com/github/jun-ogura/preprocessing-pet-images/blob/master/animal_PET_img_processing_ver01.ipynb)"
      ],
      "metadata": {
        "id": "jOYa33Q-s5hY"
      }
    },
    {
      "cell_type": "markdown",
      "source": [
        "# Pythonを使ったPETデータ前処理\n",
        "## - Main functions -\n",
        "---\n",
        "\n",
        "　※　一般的にPET画像処理は有償ソフトウェアのPMODを使用することが多いですが、<br>\n",
        "　　　ここでは**全ての処理を無料のツールを使って行う方法**についてまとめて<br>\n",
        "　　　います。<br>\n",
        "<br>\n",
        "　※　ここでは私が普段使用している動物PET/CT画像（ClairvivoPET/CT, 島津製作所）<br>\n",
        "　　　の処理を前提として記載していますが、他の機種やモダリティ画像およびヒトの<br>\n",
        "　　　PET/CT/MRI画像等にも利用できるものがあります（自身の使用している機種・<br>\n",
        "　　　画像に合わせてパラメーターを変更してください）。<br>\n",
        "<br>\n",
        "　※　ClairvivoPET/CT（島津製作所）は一体型ではなくPETとCTで別々の装置になります。<br>\n",
        "<br>\n",
        "　※　一部の処理はdynamic imageに未対応です（今後対応予定）。"
      ],
      "metadata": {
        "id": "a8NiopcTTAVn"
      }
    },
    {
      "cell_type": "markdown",
      "metadata": {
        "id": "fQrkFz4Sy4NJ"
      },
      "source": [
        "# 01. パッケージの読み込み\n",
        "---\n",
        "各関数で必要となるパッケージは以下です。<br>\n",
        "- numpy\n",
        "- nibabel\n",
        "- nilearn\n",
        "- pandas\n",
        "\n",
        "以下のコードを実行してパッケージを読み込みます。"
      ]
    },
    {
      "cell_type": "code",
      "metadata": {
        "id": "W9h8Q1MBxU8e"
      },
      "source": [
        "import os\n",
        "import numpy as np\n",
        "import nibabel as nib\n",
        "from nibabel.processing import smooth_image\n",
        "from nilearn.image import load_img, mean_img, index_img, resample_img, concat_imgs, iter_img\n",
        "from nilearn.regions import img_to_signals_labels\n",
        "import pandas as pd"
      ],
      "execution_count": null,
      "outputs": []
    },
    {
      "cell_type": "markdown",
      "metadata": {
        "id": "CNyJf7ya0Bew"
      },
      "source": [
        "# 02. 回転・平行移動をするための関数\n",
        "---\n",
        "　ClairvivoPET/CTのデータはLR軸を中心に‐90度回転させることで、一般公開されている動物用の各種テンプレート画像と軸が合うようになります（SPMで画像を表示したとき、一般的なテンプレート画像と軸が合うように修正します）。<br>\n",
        "<br>\n",
        "　また、一般的なテンプレート画像と座標が大きくずれているため手動での修正がし辛いことが多々あります。<br>\n",
        "位置合わせの修正にかかる負担を最小限とするために、取得した画像の座標をおおまかに修正します。<br>\n",
        "<br>\n",
        "　大まかに修正された画像のより正確な位置合わせは[ 3D Slicer ](https://www.slicer.org/)を使ってください。"
      ]
    },
    {
      "cell_type": "code",
      "metadata": {
        "id": "6e0YKqig0LRL"
      },
      "source": [
        "def AffineTransform(inputDir, inputFile, TransformMatrix, outputDir, prefix, suffix):\n",
        "    #inputDir : 入力ファイルのあるディレクトリ\n",
        "    #inputFile : 入力ファイル（4D NIfTI形式）\n",
        "    #TransformMatrix : affine変換行列（4x4）\n",
        "    #outputDir : 出力ディレクトリの指定\n",
        "    #prefix : 出力ファイル名の接頭語\n",
        "    #suffix : 出力ファイル名の接尾語\n",
        "    \n",
        "    # import 4D NIfTI\n",
        "    niimg = load_img(inputDir + '/' + inputFile + '.nii')\n",
        "    \n",
        "    # 読み込んだ画像はNiBabel形式なのでNumpy.Array形式で扱えるようにする\n",
        "    ImgArryData = niimg.get_fdata()\n",
        "\n",
        "    # affine変換後の回転成分を計算\n",
        "    # 変換行列にオリジナルのaffine行列をかける、順番に注意\n",
        "    newAffineMatrix = np.dot(TransformMatrix, niimg.header.get_best_affine())\n",
        "\n",
        "    # 読み込みデータからヘッダーのコピーを作製\n",
        "    new_header = niimg.header.copy()\n",
        "\n",
        "    # NumpyArrayからNIfTI形式に変換\n",
        "    ConvertImg = nib.Nifti1Image(ImgArryData, affine=newAffineMatrix, header=new_header)\n",
        "    print('Completed: ' + '/' + inputFile + '.nii')\n",
        "\n",
        "    # .niiとして出力\n",
        "    outputPathName = outputDir + '/' + prefix + inputFile + suffix + '.nii'\n",
        "    nib.save(ConvertImg, os.path.join(outputPathName))"
      ],
      "execution_count": null,
      "outputs": []
    },
    {
      "cell_type": "markdown",
      "metadata": {
        "id": "ynle_DDI0QOy"
      },
      "source": [
        "上記の関数を使用するために入力引数 TransformMatrix の設定をします。<br>\n",
        "<br>\n",
        "以下の数値は[ SAMIT](https://mic-umcg.github.io/samit/)（SPM用のtoolbox）に含まれる \" Schwarz_T2w.nii \" （SDラット）をテンプレートとした場合のものになります。<br>\n",
        "<br>\n",
        "他のテンプレート画像を使用する場合は適宜変更します。<br>\n",
        "<br>\n",
        "最終的には3D Slicerで調整を行います。<br>\n",
        "<br>\n",
        "なお、入力引数 TransformMatrix は3次元座標における回転行列と平行移動行列を表したものになります。<br>\n",
        "<br>\n"
      ]
    },
    {
      "cell_type": "code",
      "metadata": {
        "id": "pCq-Us4a0ina"
      },
      "source": [
        "# Clairvivo PET用\n",
        "LR_90rotate = np.array([[1, 0, 0, -3],\n",
        "                        [0, 0, 1, 180],\n",
        "                        [0, -1, 0, -15],\n",
        "                        [0, 0, 0, 1]])\n",
        "\n",
        "# Clairvivo CT用\n",
        "LR_90rotate_CT = np.array([[1, 0, 0, 0],\n",
        "                           [0, 0, 1, 180],\n",
        "                           [0, -1, 0, -14],\n",
        "                           [0, 0, 0, 1]])"
      ],
      "execution_count": null,
      "outputs": []
    },
    {
      "cell_type": "markdown",
      "metadata": {
        "id": "UoyLpgxO1M1f"
      },
      "source": [
        "以下に具体的な使用例を示します。<br>\n",
        "このJupyter Notebookファイルと同じフォルダ階層に以下のフォルダが存在し、<br>\n",
        "そのフォルダ内にNIfTIファイルが保存されているとします。\n",
        "\n",
        "    ./static/test_data.nii\n",
        "\n",
        "最初に関数に渡す引数（inputDir、outputDir、prefix、suffix）を指定します。<br>\n",
        "関数を実行すると処理結果の画像ファイルが引数で指定されたフォルダに出力されます。<br>\n",
        "<br>\n",
        "各引数の説明は上記の関数内に記載されていますのでそちらをご確認ください（以降の関数も同様）。"
      ]
    },
    {
      "cell_type": "code",
      "metadata": {
        "id": "NcJGW_612D5O"
      },
      "source": [
        "inputDir = './static'\n",
        "outputDir = './static'\n",
        "prefix = 'r_'\n",
        "suffix = ''\n",
        "\n",
        "AffineTransform(inputDir, 'test_data', LR_90rotate, outputDir, prefix, suffix)"
      ],
      "execution_count": null,
      "outputs": []
    },
    {
      "cell_type": "markdown",
      "metadata": {
        "id": "c7FMdx8G6Osp"
      },
      "source": [
        "# 03-1. create SUV image\n",
        "---\n",
        "　上記02で作製した画像を体重（g）とトレーサーの最終投与量（MBq）を使ってSUV画像を作製します。\n",
        "\n",
        "　SUVの計算式は以下の通りです。\n",
        "\n",
        "$$\n",
        "SUV=\\frac{uptake\\;in\\;the\\;Image}{\\frac{Injected\\;dose}{body\\;weight}}\n",
        "$$"
      ]
    },
    {
      "cell_type": "code",
      "metadata": {
        "id": "4fZtmnfg64lT"
      },
      "source": [
        "def createSUVimg(inputDir, FileName, Weight_g, ID_MBq, outputDir, prefix, suffix):\n",
        "    # inputDir: \n",
        "    # FileName: 拡張子は含めない\n",
        "    # Weight_g: \n",
        "    # ID_MBq: Final Injection Dose (MBq) of tracer\n",
        "    # outputDir: 出力ディレクトリパス\n",
        "    # prefix: 出力ファイル名の接頭語\n",
        "    # suffix: 出力ファイル名の接尾語\n",
        "    \n",
        "    # load a non-SUV NIfTI image\n",
        "    tmpPathName = inputDir + '/' + FileName + '.nii'\n",
        "    niimg = nib.load(tmpPathName)\n",
        "\n",
        "    # 読み込んだ画像はNiBabel形式なのでNumpy.Array形式で扱えるようにする\n",
        "    LoadImgArryData = niimg.get_fdata()\n",
        "\n",
        "    # 体重と最終投与量をもとにSUVを計算する\n",
        "    # MBq -> kBq\n",
        "    # g -> kg\n",
        "    CalcImg = LoadImgArryData/((ID_MBq*1000)/(Weight_g/1000))\n",
        "    \n",
        "    # 読み込みデータからヘッダーのコピーを作製\n",
        "    new_header = niimg.header.copy()\n",
        "\n",
        "    # NumpyArrayからNIfTI形式に変換する\n",
        "    ConvertImg = nib.Nifti1Image(CalcImg, None, header=new_header)\n",
        "    print('Completed: ' + '/' + FileName + '.nii')\n",
        "    \n",
        "    # .niiとして出力\n",
        "    outputPathName = outputDir + '/' + prefix + FileName + suffix + '.nii'\n",
        "    nib.save(ConvertImg, os.path.join(outputPathName))"
      ],
      "execution_count": null,
      "outputs": []
    },
    {
      "cell_type": "markdown",
      "metadata": {
        "id": "zr3mHKg06_iW"
      },
      "source": [
        "以下は実行例"
      ]
    },
    {
      "cell_type": "code",
      "metadata": {
        "id": "khwCisHx7GOu"
      },
      "source": [
        "in_outDir = './static'\n",
        "prefix = ''\n",
        "suffix = '-SUV'\n",
        "\n",
        "createSUVimg(in_outDir, 'r_test_data', 230.0,  25.0, in_outDir, prefix, suffix)"
      ],
      "execution_count": null,
      "outputs": []
    },
    {
      "cell_type": "markdown",
      "source": [
        "# 03-2. create %ID/ml image\n",
        "---\n",
        "　上記02で作製した画像からトレーサーの最終投与量（MBq）を使って%ID/ml画像を作製します。\n",
        "\n",
        "　%ID/mlの計算式は以下の通りです。\n",
        "\n",
        "$$\n",
        "\\%ID/ml=\\frac{uptake\\;in\\;the\\;Image}{Injected\\;dose}\n",
        "$$\n"
      ],
      "metadata": {
        "id": "gwAmt-j1b3Cz"
      }
    },
    {
      "cell_type": "code",
      "source": [
        "def create_PrecentID_per_ml_img(inputDir, FileName, ID_MBq, outputDir, prefix, suffix):\n",
        "    # inputDir: \n",
        "    # FileName: 拡張子は含めない\n",
        "    # ID_MBq: Final Injection Dose (MBq) of tracer\n",
        "    # outputDir: 出力ディレクトリパス\n",
        "    # prefix: 出力ファイル名の接頭語\n",
        "    # suffix: 出力ファイル名の接尾語\n",
        "    \n",
        "    # load a non-SUV NIfTI image (unit: Bq/ml)\n",
        "    tmpPathName = inputDir + '/' + FileName + '.nii'\n",
        "    niimg = nib.load(tmpPathName)\n",
        "\n",
        "    # 読み込んだ画像はNiBabel形式なのでNumpy.Array形式で扱えるようにする\n",
        "    LoadImgArryData = niimg.get_fdata()\n",
        "\n",
        "    # 最終投与量をもとに %ID/ml を計算する\n",
        "    # もとの画素値がBq単位なので、最終投与濃度をMBq > Bqに変換して計算\n",
        "    CalcImg = (LoadImgArryData/(ID_MBq*10**6))*100\n",
        "    \n",
        "    # 読み込みデータからヘッダーのコピーを作製\n",
        "    new_header = niimg.header.copy()\n",
        "\n",
        "    # NumpyArrayからNIfTI形式に変換する\n",
        "    ConvertImg = nib.Nifti1Image(CalcImg, None, header=new_header)\n",
        "    print('Completed: ' + '/' + FileName + '.nii')\n",
        "    \n",
        "    # .niiとして出力\n",
        "    outputPathName = outputDir + '/' + prefix + FileName + suffix + '.nii'\n",
        "    nib.save(ConvertImg, os.path.join(outputPathName))"
      ],
      "metadata": {
        "id": "5E61UGjFd-7v"
      },
      "execution_count": null,
      "outputs": []
    },
    {
      "cell_type": "markdown",
      "source": [
        "以下は実行例です。"
      ],
      "metadata": {
        "id": "_q6pSDEt90qo"
      }
    },
    {
      "cell_type": "code",
      "source": [
        "in_outDir = './static'\n",
        "prefix = ''\n",
        "suffix = '-IDml'\n",
        "\n",
        "create_PrecentID_per_ml_img(in_outDir, 'r_test_data',  25.0, in_outDir, prefix, suffix)"
      ],
      "metadata": {
        "id": "DZtAAI2K93DN"
      },
      "execution_count": null,
      "outputs": []
    },
    {
      "cell_type": "markdown",
      "metadata": {
        "id": "iL4vFvxS7RSV"
      },
      "source": [
        "# 04. 3D Slicerを用いてテンプレート画像に位置合わせを行う\n",
        "---\n",
        "　上記03で作製した画像の位置合わせを行う。<br>\n",
        "\n",
        "\n",
        "　すでに02の工程で大まかな位置合わせができているため、3D Slicerで細かい修正を行う。<br>\n",
        "\n"
      ]
    },
    {
      "cell_type": "markdown",
      "metadata": {
        "id": "w5S3Q3AR9Zg2"
      },
      "source": [
        "# 05. SPM12（standalone版）を用いてNormalise処理を行う\n",
        "---\n",
        "　脳画像について集団解析を行う場合には空間標準化が必要である。<br>\n",
        "　各個体のMRIの構造画像を持っているのであればSPM12（standalone版）などを用いて空間標準化を行う。<br>\n",
        "<br>\n",
        "　[SPM12（standalone版）](https://www.fil.ion.ucl.ac.uk/spm/software/download/)は無料のMatlabランタイム上で動くため、Matlabは必要ない。\n",
        "　ダウンロードフォームでSPM Version＞SPM Standalone を選択するとダウンロードできる。<br>\n",
        "<br>\n",
        "　SPMでnormalise処理を行うと出力される画像は自動的にCroppingされている。<br>\n",
        "　そのため以下の06.Cropping処理は行う必要はない。"
      ]
    },
    {
      "cell_type": "markdown",
      "metadata": {
        "id": "Xh8UfixO-YHP"
      },
      "source": [
        "# 06. Cropping処理\n",
        "---\n",
        "　VOI解析等を行う際に、全ての画像で同じようにCroppingされていないと正しい結果が得られないことがある（VOIテンプレート画像と処理したい画像をフュージョンさせ、位置を合わせてもそれぞれの画像の大きさが異なる場合は正しい結果が得られないことがある）。<br>\n",
        "<br>\n",
        "　SPMなどのように自動でCropping処理されるソフトウェアを使っていない場合は、適宜この処理を実行する必要がある。<br>\n",
        "<br>\n",
        "　下の参照リンクをもとに作成・改良しているが、原点（0,0,0）が画像の中央となる場合にのみ使用可能できる。<br>\n",
        "ブレグマなど別の点を原点と指定した場合には修正が必要です。<br>\n",
        "<br>\n",
        "　(参照)[Resizing, reshaping and resampling nifti files](https://www.kaggle.com/mechaman/resizing-reshaping-and-resampling-nifti-files)"
      ]
    },
    {
      "cell_type": "code",
      "metadata": {
        "id": "JS_UTqvt_yYV"
      },
      "source": [
        "def createCroppedImg(inputDir, inputFile, target_shape_for_affine, target_shape_for_dim, resolution, interpolation, outputDir, prefix, suffix):\n",
        "    #inputDir : 入力ファイルのあるディレクトリ\n",
        "    #inputFile : 入力ファイル（4D NIfTI形式）\n",
        "    #target_shape_for_affine : Cropする大きさ（numpy.array形式、テンプレート画像のqoffset_x,y,zを解像度サイズで除して符号を反転したもの）\n",
        "    #target_shape_for_dim : Cropする位置（numpy.array形式、テンプレート画像のヘッダーのdim情報＝画像のshapeのこと）\n",
        "    #resolution : ボクセルサイズ（ここでダウン・アップサンプリングも可能）\n",
        "    #interpolation: 'continuous' (default), 'linear', or 'nearest'\n",
        "    #outputDir : 出力ディレクトリの指定\n",
        "    #prefix : 出力ファイル名の接頭語\n",
        "    #suffix : 出力ファイル名の接尾語\n",
        "    \n",
        "    # import 4D NIfTI\n",
        "    niimg = load_img(inputDir + '/' + inputFile + '.nii')\n",
        "\n",
        "    # Crop用の4x4変換行列を作製する\n",
        "    new_affine = np.zeros((4,4))\n",
        "    new_affine[:3,:3] = np.diag(resolution)\n",
        "    new_affine[:3,3] = target_shape_for_affine*resolution/2.*-1\n",
        "    new_affine[3,3] = 1.\n",
        "    \n",
        "    # Cropping (resampling)\n",
        "    Croppednii = resample_img(niimg, \n",
        "                              target_affine=new_affine, \n",
        "                              target_shape=target_shape_for_dim, \n",
        "                              interpolation=interpolation)\n",
        "    print('Completed: ' + '/' + inputFile + '.nii')\n",
        "    \n",
        "    # .niiとして出力\n",
        "    outputPathName = outputDir + '/' + prefix + inputFile + suffix + '.nii'\n",
        "    nib.save(Croppednii, os.path.join(outputPathName))\n",
        "\n",
        "\n",
        "def createCroppedImg_for_MultiFrame(inputDir, inputFile, target_shape_for_affine, target_shape_for_dim, resolution, interpolation, outputDir, prefix, suffix):\n",
        "    #inputDir : 入力ファイルのあるディレクトリ\n",
        "    #inputFile : 入力ファイル（4D NIfTI形式）\n",
        "    #target_shape_for_affine : Cropする大きさ（numpy.array形式、テンプレート画像のqoffset_x,y,zを解像度サイズで除して符号を反転したもの）\n",
        "    #target_shape_for_dim : Cropする位置（numpy.array形式、テンプレート画像のヘッダーのdim情報＝画像のshapeのこと）\n",
        "    #resolution : ボクセルサイズ（ここでダウン・アップサンプリングも可能）\n",
        "    #interpolation: 'continuous' (default), 'linear', or 'nearest'\n",
        "    #outputDir : 出力ディレクトリの指定\n",
        "    #prefix : 出力ファイル名の接頭語\n",
        "    #suffix : 出力ファイル名の接尾語\n",
        "    \n",
        "    # import 4D NIfTI\n",
        "    niimg = load_img(inputDir + '/' + inputFile + '.nii')\n",
        "\n",
        "    # Crop用の4x4変換行列を作製する\n",
        "    new_affine = np.zeros((4,4))\n",
        "    new_affine[:3,:3] = np.diag(resolution)\n",
        "    new_affine[:3,3] = target_shape_for_affine*resolution/2.*-1\n",
        "    new_affine[3,3] = 1.\n",
        "    \n",
        "    # Cropping (resampling)\n",
        "    first_single_img = index_img(niimg, 0)\n",
        "    Croppednii = resample_img(first_single_img, \n",
        "                              target_affine=new_affine, \n",
        "                              target_shape=target_shape_for_dim, \n",
        "                              interpolation=interpolation)\n",
        "    '''\n",
        "    一旦、ダブルフレームにしておく（これはダミーフレームとして使う）\n",
        "    resample_img()で作ったものは3Dなので、後の処理のことを考えてここでは4Dデータにしておく\n",
        "    index_img(Croppednii, slice(0, 1))とすることで1フレームの4Dデータとすることができる\n",
        "    index_img(Croppednii, 0)だと3Dデータになってしまうので注意\n",
        "    '''\n",
        "    Croppednii = concat_imgs([Croppednii, Croppednii])\n",
        "    Croppednii = index_img(Croppednii, slice(0, 1))\n",
        "    \n",
        "    for next_single_img in iter_img(niimg):\n",
        "        next_Croppednii = resample_img(next_single_img, \n",
        "                                  target_affine=new_affine, \n",
        "                                  target_shape=target_shape_for_dim, \n",
        "                                  interpolation=interpolation)\n",
        "        next_Croppednii = concat_imgs([next_Croppednii, next_Croppednii])\n",
        "        next_Croppednii = index_img(next_Croppednii, slice(0, 1))\n",
        "        Croppednii = concat_imgs([Croppednii, next_Croppednii])\n",
        "    \n",
        "    # 頭の余計なフレームをそぎ落とす\n",
        "    Croppednii = index_img(Croppednii, slice(1, Croppednii.shape[3]))\n",
        "    print('Completed: ' + '/' + inputFile + '.nii,' + '---> saving now')\n",
        "    \n",
        "    # .niiとして出力\n",
        "    outputPathName = outputDir + '/' + prefix + inputFile + suffix + '.nii'\n",
        "    nib.save(Croppednii, os.path.join(outputPathName))"
      ],
      "execution_count": null,
      "outputs": []
    },
    {
      "cell_type": "markdown",
      "metadata": {
        "id": "WzYLWrLVCH-o"
      },
      "source": [
        "共通パラメータ（今回はSAMITに含まれるラットのVOIテンプレート画像に合わせる）を設定します。<br>\n",
        "以下のコードをそのまま実行します。\n"
      ]
    },
    {
      "cell_type": "code",
      "metadata": {
        "id": "HMg-PIc8CPAz"
      },
      "source": [
        "resolution_size = 0.2\n",
        "target_shape_for_affine = np.array((94, 168, 140))\n",
        "target_shape_for_dim = np.array((96, 120, 96))\n",
        "new_resolution = [resolution_size, ]*3\n",
        "interpolation = 'linear'"
      ],
      "execution_count": null,
      "outputs": []
    },
    {
      "cell_type": "markdown",
      "metadata": {
        "id": "Rf-HRdeCA75P"
      },
      "source": [
        "#### ＜テンプレート画像のヘッダー情報を見るための関数（補足）＞\n",
        "　共通パラメータ決定のためのテンプレート画像のヘッダーを見るには以下の関数を使う。<br>\n",
        "　テンプレート画像のヘッダー情報をもとに上記共通パラメータを決定する。"
      ]
    },
    {
      "cell_type": "code",
      "metadata": {
        "id": "hj_qiOubBnPG"
      },
      "source": [
        "def showHeaderNIfTI(inputDir, inputFile):\n",
        "    #inputDir : 入力ファイルのあるディレクトリ\n",
        "    #inputFile : 入力ファイル（4D NIfTI形式）\n",
        "\n",
        "    # import 4D NIfTI\n",
        "    niimg = load_img(inputDir + '/' + inputFile + '.nii')\n",
        "    \n",
        "    print(niimg.header)"
      ],
      "execution_count": null,
      "outputs": []
    },
    {
      "cell_type": "markdown",
      "metadata": {
        "id": "eRbbDaJoBvsj"
      },
      "source": [
        "（使用例）\n",
        "```\n",
        "showHeaderNIfTI('./', 'SAMIT')\n",
        "showHeaderNIfTI('./', 'Schwarz_T2w')\n",
        "```"
      ]
    },
    {
      "cell_type": "markdown",
      "metadata": {
        "id": "IyRvHLIrCA6-"
      },
      "source": [
        "Cropping処理の使用例は以下になります。<br>\n",
        "Dynamic画像とStatic画像で使用する関数が異なるので注意してください。"
      ]
    },
    {
      "cell_type": "code",
      "metadata": {
        "id": "_tIHR9ZoDJ-q"
      },
      "source": [
        "in_outDir = './dynamic'\n",
        "prefix = 'c_'\n",
        "suffix = ''\n",
        "\n",
        "createCroppedImg_for_MultiFrame(in_outDir, 'r_test_data-SUV', \\\n",
        "                                target_shape_for_affine, target_shape_for_dim, \\\n",
        "                                new_resolution, interpolation, in_outDir, prefix, suffix)"
      ],
      "execution_count": null,
      "outputs": []
    },
    {
      "cell_type": "code",
      "metadata": {
        "id": "go9qpaRSC9o5"
      },
      "source": [
        "in_outDir = './static'\n",
        "prefix = 'c_'\n",
        "suffix = ''\n",
        "\n",
        "createCroppedImg(in_outDir, 'r_test_data-SUV', \\\n",
        "                 target_shape_for_affine, target_shape_for_dim, new_resolution, \\\n",
        "                 interpolation, in_outDir, prefix, suffix)"
      ],
      "execution_count": null,
      "outputs": []
    },
    {
      "cell_type": "markdown",
      "source": [
        "# 07. Smoothing処理\n",
        "---\n",
        "必要に応じてSmoothing処理を行います。<br>\n"
      ],
      "metadata": {
        "id": "_z4LCHjViwf5"
      }
    },
    {
      "cell_type": "code",
      "metadata": {
        "id": "KuND3W27df53"
      },
      "source": [
        "def createSmoothedImg(inputDir, inputFile, fwhm, outputDir, prefix, suffix):\n",
        "    #inputDir : 入力ファイルのあるディレクトリ\n",
        "    #inputFile : 入力ファイル（4D NIfTI形式）\n",
        "    #fwhm : 単位はmm\n",
        "    #outputDir : 出力ディレクトリの指定\n",
        "    #prefix : 出力ファイル名の接頭語\n",
        "    #suffix : 出力ファイル名の接尾語\n",
        "    \n",
        "    # import 4D NIfTI\n",
        "    niimg = load_img(inputDir + '/' + inputFile + '.nii')\n",
        "    \n",
        "    # Smoothing\n",
        "    Smoothednii = smooth_image(niimg, fwhm)\n",
        "    print('Completed: ' + '/' + inputFile + '.nii')\n",
        "    \n",
        "    # .niiとして出力\n",
        "    outputPathName = outputDir + '/' + prefix + inputFile + suffix + '.nii'\n",
        "    nib.save(Smoothednii, os.path.join(outputPathName))"
      ],
      "execution_count": null,
      "outputs": []
    },
    {
      "cell_type": "markdown",
      "source": [
        "以下、実行例"
      ],
      "metadata": {
        "id": "kE4LludGooZc"
      }
    },
    {
      "cell_type": "code",
      "metadata": {
        "id": "fDLLnIp-dsyD"
      },
      "source": [
        "# 共通パラメータ\n",
        "fwhm = 0.5   # fwhm : 半値全幅(Full Width at Half Maximum)\n",
        "\n",
        "in_outDir = './in_vivo_CT'\n",
        "prefix = 's_'\n",
        "suffix = ''\n",
        "\n",
        "createSmoothedImg(in_outDir, 'c_r_test_CT_data', fwhm, in_outDir, prefix, suffix)"
      ],
      "execution_count": null,
      "outputs": []
    },
    {
      "cell_type": "markdown",
      "metadata": {
        "id": "0trnFD1kEuot"
      },
      "source": [
        "# 08. VOI解析\n",
        "---\n",
        "　SPMや3D Slicerを使ってVOI解析を行っても良い。<br>\n",
        "<br>\n",
        "　以下はSAMITのVOI解析出力結果と同じような形式になるように作成したVOI解析コードです（最低限の機能のみ。今後バージョンアップ予定）。<br>\n",
        "<br>\n",
        "　このコードでは全脳VOIは出力されません。<br>"
      ]
    },
    {
      "cell_type": "code",
      "metadata": {
        "id": "XXaVWSZgF3qX"
      },
      "source": [
        "# 単一ファイル解析用\n",
        "def exportVOIvalue(inputDir, FileName, label_img, label_txt, outputDir, prefix, suffix, outputFlag):\n",
        "    # inputDir: \n",
        "    # FileName: 拡張子は含めない\n",
        "    # outputDir: 出力ディレクトリパス\n",
        "    # label_img: VOI template image (.nii)\n",
        "    # label_txt: tab区切りのテキストファイル（SAMITのラベルファイルを参照）\n",
        "    # prefix: 出力ファイル名の接頭語\n",
        "    # suffix: 出力ファイル名の接尾語\n",
        "    # outputFlag: 0 -> ファイル出力, 1 -> オブジェクトをreturn\n",
        "    \n",
        "    # load NIfTI image\n",
        "    tmpPathName = inputDir + '/' + FileName + '.nii'\n",
        "    niimg = nib.load(tmpPathName)\n",
        "\n",
        "    # img_to_signals_labels()が同じshapeかつ同じaffineでないと処理してくれないので修正する\n",
        "    # 読み込んだ画像はNiBabel形式なのでNumpy.Array形式で扱えるようにする\n",
        "    ImgArryData = niimg.get_fdata()\n",
        "\n",
        "    # 読み込みデータからヘッダーのコピーを作製\n",
        "    new_header = niimg.header.copy()\n",
        "\n",
        "    # load a label NIfTI image\n",
        "    tmpPathName = inputDir + '/' + label_img + '.nii'\n",
        "    labelimg = nib.load(tmpPathName)\n",
        "\n",
        "    # NumpyArrayからNIfTI形式に変換\n",
        "    ConvertImg = nib.Nifti1Image(ImgArryData, affine=labelimg.header.get_best_affine(), header=new_header)\n",
        "        \n",
        "    if len(niimg.shape)==3:\n",
        "        # シングルフレームの場合\n",
        "        # img_to_signals_labels()が4Dデータしか扱えないので一時的にダミー4Dにする\n",
        "        niimg = concat_imgs([ConvertImg, ConvertImg])\n",
        "        Flag_M_Frames = 0\n",
        "    else:\n",
        "        # マルチフレームの場合\n",
        "        # なぜかこの処理をしないとaffineが完全一致しているにも関わらず、一致していないと言われてしまうので仕方なく実行\n",
        "        niimg = concat_imgs([ConvertImg])\n",
        "        Flag_M_Frames = 1\n",
        "\n",
        "    \n",
        "    # import VOI label\n",
        "    tmpPathName = inputDir + '/' + label_txt + '.txt'\n",
        "    label_pd = pd.read_csv(tmpPathName, sep='\\t',header=None, skiprows=5)\n",
        "    label_pd.columns = ['index', 'name']\n",
        "\n",
        "    # result VOI\n",
        "    # img_to_signals_labels()で得られるsignalsはnumpy.ndarray形式なのでflatten()を使って平坦化する\n",
        "    resVOI = img_to_signals_labels(niimg, labelimg, mask_img=None, background_label=0, order='F', strategy='mean')\n",
        "    resVOI = resVOI[0].flatten()\n",
        "   \n",
        "    # ファイル名pd.series\n",
        "    frames = [0] # initialize\n",
        "    for i in range(1, niimg.shape[3]+1):\n",
        "        tmp_frames = [i]*len(label_pd)\n",
        "        frames.extend(tmp_frames)\n",
        "    frames = frames[1:]\n",
        "    \n",
        "    if Flag_M_Frames==0:\n",
        "        resVOI = resVOI[:len(label_pd)] # ダブルフレームになっているのでシングルに修正\n",
        "        #IDs = IDs[:len(label_pd)]\n",
        "        frames = frames[:len(label_pd)]\n",
        "        FileName_pd = pd.DataFrame({'File name': [FileName]*len(label_pd),\n",
        "                                    #'File ID': IDs,\n",
        "                                    'Frame No': frames})\n",
        "    else:\n",
        "        FileName_pd = pd.DataFrame({'File name': [FileName]*len(label_pd)*niimg.shape[3],\n",
        "                                    #'File ID': IDs,\n",
        "                                    'Frame No': frames})\n",
        "        label_pd = pd.concat([label_pd]*niimg.shape[3], axis=0).reset_index(drop=True) # フレーム分だけ繰り返したらインデックスを修正\n",
        "    \n",
        "    # result VOI最終版\n",
        "    resVOI_pd = pd.DataFrame({'mean': resVOI})\n",
        "\n",
        "    # VOI解析結果の整形\n",
        "    outputResVOI = pd.concat([FileName_pd, label_pd, resVOI_pd], axis=1)\n",
        "    \n",
        "    if outputFlag==0:\n",
        "        # テキストとして出力\n",
        "        outputPathName = outputDir + '/' + prefix + FileName + suffix + '.csv'\n",
        "        outputResVOI.to_csv(outputPathName, header=True, index=False, sep=',')\n",
        "        \n",
        "    elif outputFlag==1:\n",
        "        # オブジェクトとして出力\n",
        "        return(outputResVOI)\n",
        "\n",
        "\n",
        "# 複数ファイル解析用\n",
        "def exportVOIvalues(inputDir, inputFileArray, label_img, label_txt, outputDir, outputFile, prefix, suffix):\n",
        "    # inputDir: \n",
        "    #inputFileArray : 入力ファイル名（4D NIfTI形式）をnumpy.Array形式で与える\n",
        "    # outputDir: 出力ディレクトリパス\n",
        "    # outputFile: 出力ファイル名\n",
        "    # prefix: 出力ファイル名の接頭語\n",
        "    # suffix: 出力ファイル名の接尾語\n",
        "\n",
        "    # 結果格納用の空のpandasデータフレームを作製\n",
        "    VOItbl = pd.DataFrame({'File name': [],\n",
        "                           'File ID': [],\n",
        "                           'Frame No': [],\n",
        "                           'index': [],\n",
        "                           'name': [],\n",
        "                           'mean': []})\n",
        "    \n",
        "    # ファイルごとにVOI解析し、結果をVOItblに追加していく\n",
        "    for FileName in range(0, len(inputFileArray)):\n",
        "        tmpTbl = exportVOIvalue(inputDir, inputFileArray[FileName], label_img, label_txt, '', '', '', 1)\n",
        "        #IDs = [FileName]*len(label_pd)*niimg.shape[3]\n",
        "        VOItbl = pd.concat([VOItbl, tmpTbl], axis=0)\n",
        "        print('Processed: ' + inputFileArray[FileName] + '.nii')\n",
        "\n",
        "    # テキストとして出力\n",
        "    outputPathName = outputDir + '/' + prefix + outputFile + suffix + '.csv'\n",
        "    VOItbl.to_csv(outputPathName, header=True, index=False, sep=',')"
      ],
      "execution_count": null,
      "outputs": []
    },
    {
      "cell_type": "markdown",
      "metadata": {
        "id": "8Y7gA2AqGGPG"
      },
      "source": [
        "' label_img 'と' label_txt 'に指定するVOIテンプレート（.niiと.txt）ファイルは引数' inputDir 'の中にあらかじめ用意しておきます。<br>\n",
        "<br>\n",
        "それ以外のフォルダにある場合はエラーとなります。<br>\n",
        "<br>\n",
        "今回使用する label_txt は `/spm12/toolbox/samit/Schwarz_rat/VOIs/SAMIT.txt` になります。<br>\n",
        "これと同じフォーマットであればオリジナルの ラベルテキストファイルでも使用可能です。<br>\n",
        "<br>\n",
        "以下のコードは一例です。<br>\n",
        "1ファイルのみVOI解析する場合と、2ファイル以上をまとめてVOI解析する場合で使用する関数が異なるので注意します。<br>\n",
        "<br>\n",
        "処理が完了すると指定した出力先フォルダにCSVファイルが出力されます。"
      ]
    },
    {
      "cell_type": "code",
      "metadata": {
        "id": "IM8be6fyGC9A"
      },
      "source": [
        "label_img = 'SAMIT'\n",
        "label_txt = 'SAMIT'\n",
        "\n",
        "prefix = 'VOI_'\n",
        "suffix = ''\n",
        "\n",
        "in_outDir = './static'\n",
        "\n",
        "# 単一ファイルのみVOI解析する場合\n",
        "exportVOIvalue(in_outDir, 'c_r_test_data-SUV', label_img, label_txt, in_outDir, prefix, suffix, 0)\n",
        "\n",
        "# 複数ファイルをまとめてVOI解析する場合\n",
        "exportVOIvalues(in_outDir, np.array(['c_r_test_data01-SUV',\n",
        "                                     'c_r_test_data02-SUV',\n",
        "                                     'c_r_test_data03-SUV']), \n",
        "                label_img, label_txt, in_outDir, 'test_data_all', prefix, suffix)"
      ],
      "execution_count": null,
      "outputs": []
    }
  ]
}