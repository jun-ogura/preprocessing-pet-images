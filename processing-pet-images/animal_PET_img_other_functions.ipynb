{
  "nbformat": 4,
  "nbformat_minor": 0,
  "metadata": {
    "colab": {
      "name": "animal_PET_img_other_functions.ipynb",
      "provenance": [],
      "authorship_tag": "ABX9TyNdD2n62xfYUHg1kWC6BCNk"
    },
    "kernelspec": {
      "name": "python3",
      "display_name": "Python 3"
    },
    "language_info": {
      "name": "python"
    }
  },
  "cells": [
    {
      "cell_type": "markdown",
      "source": [
        "[![Open In Colab](https://colab.research.google.com/assets/colab-badge.svg)](http://colab.research.google.com/github/jun-ogura/preprocessing-pet-images/blob/master/animal_PET_img_other_functions.ipynb)"
      ],
      "metadata": {
        "id": "hVSQA-J_Nfgu"
      }
    },
    {
      "cell_type": "markdown",
      "source": [
        "# Pythonを使ったPETデータ前処理\n",
        "## - Other functions -\n",
        "---\n",
        "　ここでは、animal_PET_img_processing.ipynb で触れられていない機能を記載します。\n",
        "\n",
        "主に以下の関数が含まれます。<br>\n",
        "<br>\n",
        "- ExtractSlices : <br>\n",
        "　　シングルフレーム画像の任意のスライスのみを抽出するための関数<br>\n",
        "<br>\n",
        "- CreateMeanImgToMultiFrm : <br>\n",
        "　　マルチフレームデータ（4D NIfTI）から任意のフレームを抽出し、<br>\n",
        "　　その平均画像を作製する関数<br>\n",
        "<br>\n",
        "- AffineTransformByAlignedImg : <br>\n",
        "　　3D Slicerで位置合わせが終わった画像のヘッダー情報をもとに<br>\n",
        "　　回転・平行移動を他の画像データに適用するための関数<br>\n",
        "<br>\n",
        "- create_SUVimg2PrecentID_per_ml_img : <br>\n",
        "　　SUV画像を%ID/ml画像にする変換する関数<br>\n",
        "<br>\n",
        "- createSUVrImg_PMOD / createSUVrImg_SAMIT : <br>\n",
        "　　SUVr（リファレンスVOIで標準化した）画像を作製するための関数<br>\n",
        "<br>\n",
        "- createMeanImg : <br>\n",
        "　　群の平均画像を作製するための関数<br>\n",
        "<br>\n",
        "- InvertAxis : <br>\n",
        "　　反転をするための関数(アフィン行列を修正して見た目だけ反転させる方法<br>\n",
        "　　→　元画像は反転しない)<br>\n",
        "<br>\n",
        "- InvertAxisV2 : <br>\n",
        "　　反転をするための関数(アフィン行列は編集せずに元画像を反転させる方法)<br>\n",
        "<br>\n",
        "- CalcDifferenceImg : <br>\n",
        "　　差分画像を作製するための関数<br>\n",
        "<br>\n",
        "- CalcRatioImg : <br>\n",
        "　　割合（百分率）画像を作製するための関数<br>\n",
        "<br>\n",
        "- CalcMaskImg : <br>\n",
        "　　マスク適用画像を作製するための関数<br>\n",
        "<br>\n",
        "\n",
        "滅多に使用しないものもありますが、参考までに載せています。"
      ],
      "metadata": {
        "id": "aXJnWkawD-IN"
      }
    },
    {
      "cell_type": "markdown",
      "source": [
        "### Reference Link\n",
        "\n",
        "- [ 7.0.0. Reference documentation: all nilearn functions ](https://nilearn.github.io/modules/reference.html#reference-documentation-all-nilearn-functions)\n",
        "\n",
        "- [ 7.5.8. nilearn.image.index_img ](https://nilearn.github.io/modules/generated/nilearn.image.index_img.html#nilearn.image.index_img)\n",
        "\n",
        "- [ 7.5.13. nilearn.image.mean_img ](https://nilearn.github.io/modules/generated/nilearn.image.mean_img.html#nilearn.image.mean_img)"
      ],
      "metadata": {
        "id": "cjzs7oOW_h-9"
      }
    },
    {
      "cell_type": "markdown",
      "source": [
        "# 01. パッケージの読み込み\n",
        "---\n",
        "各関数で必要となるパッケージは以下です。\n",
        "- nilearn\n",
        "- nibabel\n",
        "- numpy"
      ],
      "metadata": {
        "id": "PiUHb8DTApwN"
      }
    },
    {
      "cell_type": "code",
      "execution_count": null,
      "metadata": {
        "id": "H2zjJS9rqB8i",
        "outputId": "3b3a3ac3-5e8d-4add-82b3-bff3cea324ac",
        "colab": {
          "base_uri": "https://localhost:8080/",
          "height": 378
        }
      },
      "outputs": [
        {
          "output_type": "error",
          "ename": "ModuleNotFoundError",
          "evalue": "ignored",
          "traceback": [
            "\u001b[0;31m---------------------------------------------------------------------------\u001b[0m",
            "\u001b[0;31mModuleNotFoundError\u001b[0m                       Traceback (most recent call last)",
            "\u001b[0;32m<ipython-input-1-a3cba151d44b>\u001b[0m in \u001b[0;36m<module>\u001b[0;34m()\u001b[0m\n\u001b[1;32m      1\u001b[0m \u001b[0;32mimport\u001b[0m \u001b[0mos\u001b[0m\u001b[0;34m\u001b[0m\u001b[0;34m\u001b[0m\u001b[0m\n\u001b[0;32m----> 2\u001b[0;31m \u001b[0;32mfrom\u001b[0m \u001b[0mnilearn\u001b[0m\u001b[0;34m.\u001b[0m\u001b[0mimage\u001b[0m \u001b[0;32mimport\u001b[0m \u001b[0mload_img\u001b[0m\u001b[0;34m,\u001b[0m \u001b[0mmean_img\u001b[0m\u001b[0;34m,\u001b[0m \u001b[0mindex_img\u001b[0m\u001b[0;34m\u001b[0m\u001b[0;34m\u001b[0m\u001b[0m\n\u001b[0m\u001b[1;32m      3\u001b[0m \u001b[0;32mimport\u001b[0m \u001b[0mnumpy\u001b[0m \u001b[0;32mas\u001b[0m \u001b[0mnp\u001b[0m\u001b[0;34m\u001b[0m\u001b[0;34m\u001b[0m\u001b[0m\n\u001b[1;32m      4\u001b[0m \u001b[0;32mimport\u001b[0m \u001b[0mnibabel\u001b[0m \u001b[0;32mas\u001b[0m \u001b[0mnib\u001b[0m\u001b[0;34m\u001b[0m\u001b[0;34m\u001b[0m\u001b[0m\n\u001b[1;32m      5\u001b[0m \u001b[0;34m\u001b[0m\u001b[0m\n",
            "\u001b[0;31mModuleNotFoundError\u001b[0m: No module named 'nilearn'",
            "",
            "\u001b[0;31m---------------------------------------------------------------------------\u001b[0;32m\nNOTE: If your import is failing due to a missing package, you can\nmanually install dependencies using either !pip or !apt.\n\nTo view examples of installing some common dependencies, click the\n\"Open Examples\" button below.\n\u001b[0;31m---------------------------------------------------------------------------\u001b[0m\n"
          ],
          "errorDetails": {
            "actions": [
              {
                "action": "open_url",
                "actionText": "Open Examples",
                "url": "/notebooks/snippets/importing_libraries.ipynb"
              }
            ]
          }
        }
      ],
      "source": [
        "import os\n",
        "from nilearn.image import load_img, mean_img, index_img\n",
        "import numpy as np\n",
        "import nibabel as nib\n",
        "\n",
        "from nibabel.processing import smooth_image\n",
        "from nilearn.image import load_img, mean_img, index_img, resample_img, concat_imgs, iter_img\n",
        "from nilearn.regions import img_to_signals_labels\n",
        "import nipype.interfaces.spm as spm\n",
        "import pandas as pd"
      ]
    },
    {
      "cell_type": "markdown",
      "source": [
        "# 02. シングルフレーム画像の任意のスライスのみを抽出するための関数\n",
        "---\n",
        "\n",
        "- ClairvivoPETで2匹同時撮像を行ったとき、再構成後の画像から1匹のみの画像を取り出すためには該当個体のみが映っているスライスだけを抽出すればよい。\n",
        "\n",
        "- 画像解析を行う上で、余計なものが映りこんでいると精度が落ちる恐れがあり、被検体以外の領域が無駄に多いとそれだけ処理に時間がかかります。\n",
        "\n",
        "- ここでは<u>**2匹が向い合せに配置されており、体軸方向に対してスライスが行われている**</u>ことを前提に話を進めます（もちろんそれ以外でも使用できます）。\n",
        "\n",
        "- また、ClairvivoPETはスライス枚数が213であり、中心スライスは107となっています。"
      ],
      "metadata": {
        "id": "uKhlEi9wBFIR"
      }
    },
    {
      "cell_type": "code",
      "source": [
        "def ExtractSlices(inputDir, inputFile, startS, stopS, outputDir, prefix, suffix):\n",
        "    #inputDir : 入力ファイルのあるディレクトリ\n",
        "    #inputFile : 入力ファイル（4D NIfTI形式）\n",
        "    #startS : 抽出する画像の開始スライス（一番手前が0）\n",
        "    #stopS : 抽出する画像の終了スライス\n",
        "    #outputDir : 出力ディレクトリの指定\n",
        "    #prefix : 出力ファイル名の接頭語\n",
        "    #suffix : 出力ファイル名の接尾語\n",
        "    \n",
        "    # import 4D NIfTI\n",
        "    niimg = load_img(inputDir + '/' + inputFile + '.nii')\n",
        "    #print(niimg.shape)\n",
        "\n",
        "    # 読み込んだ画像はNiBabel形式なのでNumpy.Array形式で扱えるようにする\n",
        "    ImgArryData = niimg.get_fdata()\n",
        "\n",
        "    # スライスの抽出\n",
        "    if len(ImgArryData.shape)==3:\n",
        "        ExtractedArrayNii = ImgArryData[:,:,startS:stopS]   # 3D\n",
        "    elif len(ImgArryData.shape)==4:\n",
        "        ExtractedArrayNii = ImgArryData[:,:,startS:stopS,:] # 4D\n",
        "    else:\n",
        "        pass\n",
        "    print(ExtractedArrayNii.shape)\n",
        "    \n",
        "    # 読み込みデータからヘッダーのコピーを作製\n",
        "    new_header = niimg.header.copy()\n",
        "\n",
        "    # NumpyArrayからNIfTI形式に変換\n",
        "    ConvertImg = nib.Nifti1Image(ExtractedArrayNii, None, header=new_header)\n",
        "    \n",
        "    # .niiとして出力\n",
        "    outputPathName = outputDir + '/' + prefix + inputFile + suffix + '.nii'\n",
        "    nib.save(ConvertImg, os.path.join(outputPathName))"
      ],
      "metadata": {
        "id": "Dido4x1Dq9lo"
      },
      "execution_count": null,
      "outputs": []
    },
    {
      "cell_type": "markdown",
      "source": [
        "以下に具体的な使用例を示します（animal_PET_img_processing.ipynbと同様）。\n",
        "\n",
        "<br>\n",
        "このJupyter Notebookファイルと同じフォルダ階層に以下のフォルダが存在し、<br>\n",
        "そのフォルダ内にNIfTIファイルが保存されているとします。\n",
        "\n",
        "    ./static/test_data.nii\n",
        "\n",
        "最初に関数に渡す引数（inputDir、outputDir、prefix、suffix）を指定します。<br>\n",
        "関数を実行すると処理結果の画像ファイルが引数で指定されたフォルダに出力されます。<br>\n",
        "<br>\n",
        "各引数の説明は上記の関数内に記載されていますのでそちらをご確認ください（以降の関数も同様）。"
      ],
      "metadata": {
        "id": "tO8mS85jILJd"
      }
    },
    {
      "cell_type": "code",
      "source": [
        "inputDir = './static'\n",
        "outputDir = './static'\n",
        "prefix = 'p_'\n",
        "suffix = ''\n",
        "\n",
        "# 手前の個体\n",
        "ExtractSlices(inputDir, 'test_data', 0, 107, outputDir, prefix, suffix)\n",
        "\n",
        "# 奥側の個体\n",
        "ExtractSlices(inputDir, 'test_data', 90, 197, outputDir, prefix, suffix)"
      ],
      "metadata": {
        "id": "WzRchP6_DvJs"
      },
      "execution_count": null,
      "outputs": []
    },
    {
      "cell_type": "markdown",
      "source": [
        "# 03. マルチフレームデータ（4D NIfTI）から任意のフレームを抽出し、その平均画像を作製する関数\n",
        "---\n"
      ],
      "metadata": {
        "id": "_-7QQrVEKOIn"
      }
    },
    {
      "cell_type": "code",
      "source": [
        "def createMeanFramesImg(inputDir, inputFile, frameRnage, outputDir, prefix, suffix):\n",
        "    #inputDir : 入力ファイルのあるディレクトリ\n",
        "    #inputFile : 入力ファイル（4D NIfTI形式）\n",
        "    #frameRnage : どこからどこまでのフレームを使って加算平均するかを指定（slice()関数で指定する）\n",
        "    #outputDir : 出力ディレクトリの指定\n",
        "    #prefix : 出力ファイル名の接頭語\n",
        "    #suffix : 出力ファイル名の接尾語\n",
        "    \n",
        "    # import 4D NIfTI\n",
        "    niimg = load_img(inputDir + '/' + inputFile + '.nii')\n",
        "    tmpArrayNiimg = niimg.get_fdata()\n",
        "\n",
        "    # get single image\n",
        "    if len(tmpArrayNiimg.shape)==3:\n",
        "        print('Can not use the 3D image. Use a 4D image only.')\n",
        "        \n",
        "    elif len(tmpArrayNiimg.shape)==4:\n",
        "        multi_frame_img = index_img(niimg, frameRnage) # 4D data (maluti frames)\n",
        "        single_mean_image = mean_img(multi_frame_img)\n",
        "        \n",
        "    else:\n",
        "        pass\n",
        "    \n",
        "    single_mean_imageArray = single_mean_image.get_fdata()\n",
        "\n",
        "    # 読み込みデータからヘッダーのコピーを作製\n",
        "    new_header = niimg.header.copy()\n",
        "\n",
        "    # NumpyArrayからNIfTI形式に変換\n",
        "    ConvertImg = nib.Nifti1Image(single_mean_imageArray, None, header=new_header)\n",
        "    \n",
        "    # infomation\n",
        "    tmpArray = multi_frame_img.get_fdata()\n",
        "    print('Complete: /' + inputFile + '.nii  ---   ' + 'shape: ' + str(tmpArray.shape))\n",
        "    \n",
        "    # .niiとして出力\n",
        "    outputPathName = outputDir + '/' + prefix + inputFile + suffix + '.nii'\n",
        "    nib.save(ConvertImg, os.path.join(outputPathName))"
      ],
      "metadata": {
        "id": "pUKY7SDUqgjo"
      },
      "execution_count": null,
      "outputs": []
    },
    {
      "cell_type": "markdown",
      "source": [
        "このJupyter Notebookファイルと同じフォルダ階層に以下のフォルダが存在し、<br>\n",
        "そのフォルダ内にマルチフレームのNIfTIファイルが保存されているとします。\n",
        "\n",
        "    ./dynamic/multiframe_test_data.nii\n",
        "\n",
        "最初に関数に渡す引数（inputDir、inputFile、frameRnage、outputDir、prefix、suffix）を指定します。\n",
        "\n",
        "以下の例ではフレーム8～30を抽出し、その平均画像を作製する場合となります。\n",
        "\n",
        "引数`frameRnage`は`slice()`を使って指定しますが、第一引数は指定したい<u>フレーム番号から1引いた数</u>になるため注意してください（Pythonのインデックスが0スタートのため）。"
      ],
      "metadata": {
        "id": "ijFAsD_mLYP5"
      }
    },
    {
      "cell_type": "code",
      "source": [
        "inputDir = './dynamic'\n",
        "outputDir = './dynamic'\n",
        "prefix = 'm_'\n",
        "suffix = ''\n",
        "\n",
        "createMeanFramesImg(inputDir, 'multiframe_test_data', slice(7, 30), outputDir, prefix, suffix)"
      ],
      "metadata": {
        "id": "IeuBX6pqK-vN"
      },
      "execution_count": null,
      "outputs": []
    },
    {
      "cell_type": "markdown",
      "source": [
        "# 04. 位置合わせの終わった画像のヘッダー情報をもとに回転・平行移動を他の画像データに適用するための関数\n",
        "---\n",
        "\n",
        "- AffineTransform()（[Pythonを使ったPETデータ前処理- Main functions -の02. 回転・平行移動をするための関数](https://github.com/jun-ogura/preprocessing-pet-images/blob/main/animal_PET_img_processing_ver01.ipynb)を参照）で作製した画像の位置合わせを、すでに位置合わせが終わっている画像をもとに行う場合はこの関数を使用する。\n",
        "\n",
        "- SPM（Reorient Imageに相当）では変換行列ファイル（_sn.mat）が必要になるが、この関数はその変換行列を位置合わせ済みの画像のヘッダーから抽出して利用する。\n",
        "\n",
        "- 3D Slicer等で位置合わせしたあとに、その画像をもとに他のdynamicとstaticの画像の位置合わせを行うことができる。"
      ],
      "metadata": {
        "id": "GltrWHThOQUH"
      }
    },
    {
      "cell_type": "code",
      "source": [
        "def AffineTransformByAlignedImg(inputDir, inputFile, alignedImgFile, outputDir, prefix, suffix):\n",
        "    #inputDir : 入力ファイルのあるディレクトリ\n",
        "    #inputFile : 入力ファイル（4D NIfTI形式）\n",
        "    #alignedImgFile : テンプレート画像に位置合わせが終わっている画像ファイル（パスおよび拡張子含めて指定）\n",
        "    #outputDir : 出力ディレクトリの指定\n",
        "    #prefix : 出力ファイル名の接頭語\n",
        "    #suffix : 出力ファイル名の接尾語\n",
        "    \n",
        "    # import 4D NIfTI\n",
        "    '''位置合わせしたい画像の読み込み'''\n",
        "    niimg = load_img(inputDir + '/' + inputFile + '.nii')\n",
        "    '''位置合わせ済み画像の読み込み'''\n",
        "    alignedImgnii = load_img(alignedImgFile)\n",
        "    \n",
        "    # 読み込んだ画像はNiBabel形式なのでNumpy.Array形式で扱えるようにする\n",
        "    ImgArryData = niimg.get_fdata()\n",
        "\n",
        "    # 位置合わせ済み画像からaffine変換行列を抽出\n",
        "    newAffineMatrix = alignedImgnii.header.get_best_affine()\n",
        "\n",
        "    # 読み込みデータからヘッダーのコピーを作製\n",
        "    new_header = niimg.header.copy()\n",
        "\n",
        "    # NumpyArrayからNIfTI形式に変換\n",
        "    ConvertImg = nib.Nifti1Image(ImgArryData, affine=newAffineMatrix, header=new_header)\n",
        "    print('Completed: ' + '/' + inputFile + '.nii')\n",
        "    \n",
        "    # .niiとして出力\n",
        "    outputPathName = outputDir + '/' + prefix + inputFile + suffix + '.nii'\n",
        "    nib.save(ConvertImg, os.path.join(outputPathName))"
      ],
      "metadata": {
        "id": "ufZ7P--IOPnp"
      },
      "execution_count": null,
      "outputs": []
    },
    {
      "cell_type": "markdown",
      "source": [
        "使いどころとしては、まず上記のcreateMeanFramesImg（）関数で位置合わせ用の画像を作製し、3D Slicer等でテンプレート画像やCT画像と位置合わせを行います。\n",
        "\n",
        "その後、3D Slicerで位置合わせの終わった画像を使ってDynamicおよびStatic画像の位置合わせを行います。\n",
        "\n",
        "最初に関数に渡す引数（inputDir, inputFile, alignedImgFile, outputDir, prefix, suffix）を指定します。\n",
        "\n",
        "ここでは前述の`createMeanFramesImg(inputDir, 'multiframe_test_data', slice(7, 30), outputDir, prefix, suffix)`で作った`m_multiframe_test_data.nii`というファイルが3D Slicerでテンプレート画像に対し位置合わせが終了したという前提で説明します。\n",
        "\n",
        "この`m_multiframe_test_data.nii`を使って`test_data-SUV.nii`というファイルの位置合わせを行う場合は以下のようになります。\n",
        "\n",
        "※　<u>引数`alignedImgFile`は絶対パスで指定してください。</u>"
      ],
      "metadata": {
        "id": "h6ne9XpOJm17"
      }
    },
    {
      "cell_type": "code",
      "source": [
        "inputDir = './dynamic'\n",
        "outputDir = './dynamic'\n",
        "prefix = 'r'\n",
        "suffix = ''\n",
        "\n",
        "AffineTransformByAlignedImg(inputDir, 'test_data-SUV', './dynamicm_multiframe_test_data.nii', outputDir, prefix, suffix)"
      ],
      "metadata": {
        "id": "RAPwX1ptdGjq"
      },
      "execution_count": null,
      "outputs": []
    },
    {
      "cell_type": "markdown",
      "source": [
        "# 05. SUV画像を%ID/ml画像にする変換する関数\n",
        "---\n",
        "あまり使うことはないと思いますが、参考までに載せておきます。"
      ],
      "metadata": {
        "id": "SiWqK8F3sz6L"
      }
    },
    {
      "cell_type": "code",
      "source": [
        "def create_SUVimg2PrecentID_per_ml_img(inputDir, FileName, Weight_g, ID_MBq, outputDir, prefix, suffix):\n",
        "    # inputDir: \n",
        "    # FileName: 拡張子は含めない\n",
        "    # Weight_g: \n",
        "    # ID_MBq: Final Injection Dose (MBq) of tracer\n",
        "    # outputDir: 出力ディレクトリパス\n",
        "    # prefix: 出力ファイル名の接頭語\n",
        "    # suffix: 出力ファイル名の接尾語\n",
        "    \n",
        "    # load a SUV NIfTI image\n",
        "    tmpPathName = inputDir + '/' + FileName + '.nii'\n",
        "    niimg = nib.load(tmpPathName)\n",
        "\n",
        "    # 読み込んだ画像はNiBabel形式なのでNumpy.Array形式で扱えるようにする\n",
        "    LoadImgArryData = niimg.get_fdata()\n",
        "\n",
        "    # SUV画像をもとのBq/mlの画像に戻す\n",
        "    Bq_pet_ml_Img = LoadImgArryData*((ID_MBq*1000)/(Weight_g/1000))\n",
        "\n",
        "    # 最終投与量をもとに %ID/ml を計算する\n",
        "    # もとの画素値がBq単位なので、最終投与濃度をMBq > Bqに変換して計算\n",
        "    CalcImg = (Bq_pet_ml_Img/(ID_MBq*10**6))*100\n",
        "    \n",
        "    # 読み込みデータからヘッダーのコピーを作製\n",
        "    new_header = niimg.header.copy()\n",
        "\n",
        "    # NumpyArrayからNIfTI形式に変換する\n",
        "    ConvertImg = nib.Nifti1Image(CalcImg, None, header=new_header)\n",
        "    print('Completed: ' + '/' + FileName + '.nii')\n",
        "    \n",
        "    # .niiとして出力\n",
        "    outputPathName = outputDir + '/' + prefix + FileName + suffix + '.nii'\n",
        "    nib.save(ConvertImg, os.path.join(outputPathName))"
      ],
      "metadata": {
        "id": "Dm22mJM_szLS"
      },
      "execution_count": null,
      "outputs": []
    },
    {
      "cell_type": "markdown",
      "source": [
        "最初に関数に渡す引数（inputDir, FileName, Weight_g, ID_MBq, outputDir, prefix, suffix）を指定します。"
      ],
      "metadata": {
        "id": "-THNLzChRRpZ"
      }
    },
    {
      "cell_type": "code",
      "source": [
        "in_outDir = './dynamic'\n",
        "prefix = ''\n",
        "suffix = '2PIDpml'\n",
        "\n",
        "create_SUVimg2PrecentID_per_ml_img(in_outDir, 'r_test_data-SUV', 22.6, 5.44, in_outDir, prefix, suffix)"
      ],
      "metadata": {
        "id": "oEA7MpCEtEyy"
      },
      "execution_count": null,
      "outputs": []
    },
    {
      "cell_type": "markdown",
      "source": [
        "# 06. SUVr（リファレンスVOIで標準化した）画像を作製するための関数\n",
        "---\n",
        "SUV画像の値をリファレンスとなる値で割った画像を作製することが出来ます（いわゆるSUVr画像）。\n",
        "\n",
        "SUVrの計算方法はいくつかあるようですが、ここでは2種類の関数を用意しています。"
      ],
      "metadata": {
        "id": "OU21fMg_tZGb"
      }
    },
    {
      "cell_type": "markdown",
      "source": [
        "### 06-1. 一般的なSUVr\n",
        "---\n",
        "　PMOD等でも採用されている最も一般的な計算方法です。\n",
        "\n",
        "　計算式は以下になります。\n",
        "\n",
        "$$\n",
        "= \\frac{SUV\\;value}{reference\\;SUV\\;value}\n",
        "$$\n"
      ],
      "metadata": {
        "id": "1YncC9YZScPE"
      }
    },
    {
      "cell_type": "code",
      "source": [
        "def createSUVrImg_PMOD(inputDir, FileName, refVOIval, outputDir, prefix, suffix):\n",
        "    # inputDir: \n",
        "    # FileName: SUV画像を指定する。拡張子は含めない\n",
        "    # refVOIval: 入力SUV画像のリファレンスにしたいVOIの値\n",
        "    # outputDir: 出力ディレクトリパス\n",
        "    # prefix: 出力ファイル名の接頭語\n",
        "    # suffix: 出力ファイル名の接尾語\n",
        "    \n",
        "    # load a non-SUV NIfTI image\n",
        "    tmpPathName = inputDir + '/' + FileName + '.nii'\n",
        "    niimg = nib.load(tmpPathName)\n",
        "\n",
        "    # 読み込んだ画像はNiBabel形式なのでNumpy.Array形式で扱えるようにする\n",
        "    LoadImgArryData = niimg.get_fdata()\n",
        "\n",
        "    # SUVrを計算する（PMODの計算式）\n",
        "    CalcImg = LoadImgArryData/refVOIval\n",
        "    \n",
        "    # 読み込みデータからヘッダーのコピーを作製\n",
        "    new_header = niimg.header.copy()\n",
        "\n",
        "    # NumpyArrayからNIfTI形式に変換する\n",
        "    ConvertImg = nib.Nifti1Image(CalcImg, None, header=new_header)\n",
        "    print('Completed: ' + '/' + FileName + '.nii')\n",
        "    \n",
        "    # .niiとして出力\n",
        "    outputPathName = outputDir + '/' + prefix + FileName + suffix + '.nii'\n",
        "    nib.save(ConvertImg, os.path.join(outputPathName))"
      ],
      "metadata": {
        "id": "AoVTwgNmtYbZ"
      },
      "execution_count": null,
      "outputs": []
    },
    {
      "cell_type": "markdown",
      "source": [
        "### 06-2. SAMITで採用されているSUVr\n",
        "---\n",
        "　SPMの動物PET用ツールボックスである[Small Animal Molecular Imaging Toolbox (SAMIT)](https://mic-umcg.github.io/samit/)で採用されている計算方法です。\n",
        "\n",
        "　※　正確にはSAMITでは全脳（Whole brain）をリファレンスにしているため、SUVwと表現されます。<br>\n",
        "　※　全脳をリファレンスにしなければならないという訳ではないと思われます。<br>\n",
        "　※　ここではSAMITのマニュアルに沿って全脳で式を表したいと思います。<br>\n",
        "\n",
        "　計算式は以下になります。<br>\n",
        "<br>\n",
        "$$\n",
        "= \\frac{SUV\\;value}{Whole\\;brain\\;uptake\\;value}\n",
        "$$\n",
        "<br>\n",
        "　分子の`whole brain uptake value`はSUV変換前の値をさすため、以下のように表現することもできます。<br>\n",
        "<br>\n",
        "$$\n",
        "=\\frac{\\frac{uptake\\;in\\;the\\;Image}{\\frac{Injected\\;dose}{body\\;weight}}}{Whole\\;brain\\;uptake\\;value}\n",
        "$$\n",
        "<br>\n",
        "$$\n",
        "=\\frac{uptake\\;in\\;the\\;Image}{Whole\\;brain\\;uptake\\;value}\\times\\frac{body\\;weight}{Injected\\;dose}\n",
        "$$"
      ],
      "metadata": {
        "id": "0R3qhZVmVG9W"
      }
    },
    {
      "cell_type": "code",
      "source": [
        "def createSUVrImg_SAMIT(inputDir, FileName, refVOIval, Weight_g, ID_MBq, outputDir, prefix, suffix):\n",
        "    # inputDir: \n",
        "    # FileName: SUV画像を指定する。拡張子は含めない\n",
        "    # refVOIval: 入力SUV画像のリファレンスにしたいVOIの値\n",
        "    # Weight_g: \n",
        "    # ID_MBq: Final Injection Dose (MBq) of tracer\n",
        "    # outputDir: 出力ディレクトリパス\n",
        "    # prefix: 出力ファイル名の接頭語\n",
        "    # suffix: 出力ファイル名の接尾語\n",
        "    \n",
        "    # load a non-SUV NIfTI image\n",
        "    tmpPathName = inputDir + '/' + FileName + '.nii'\n",
        "    niimg = nib.load(tmpPathName)\n",
        "\n",
        "    # 読み込んだ画像はNiBabel形式なのでNumpy.Array形式で扱えるようにする\n",
        "    LoadImgArryData = niimg.get_fdata()\n",
        "\n",
        "    # 体重と最終投与量をもとにSUVrを補正計算する（SAMIT toolboxの計算式）\n",
        "    # MBq -> kBq\n",
        "    # g -> kg\n",
        "    CalcImg = (LoadImgArryData/refVOIval)/((ID_MBq*1000)/(Weight_g/1000))\n",
        "    \n",
        "    # 読み込みデータからヘッダーのコピーを作製\n",
        "    new_header = niimg.header.copy()\n",
        "\n",
        "    # NumpyArrayからNIfTI形式に変換する\n",
        "    ConvertImg = nib.Nifti1Image(CalcImg, None, header=new_header)\n",
        "    print('Completed: ' + '/' + FileName + '.nii')\n",
        "    \n",
        "    # .niiとして出力\n",
        "    outputPathName = outputDir + '/' + prefix + FileName + suffix + '.nii'\n",
        "    nib.save(ConvertImg, os.path.join(outputPathName))"
      ],
      "metadata": {
        "id": "G8lYOoOStlMs"
      },
      "execution_count": null,
      "outputs": []
    },
    {
      "cell_type": "markdown",
      "source": [
        "以下、実行例です。\n",
        "\n",
        "どちらの関数も同じように使用することが出来ます。"
      ],
      "metadata": {
        "id": "WXkcWYMLaeeL"
      }
    },
    {
      "cell_type": "code",
      "source": [
        "in_outDir = './static'\n",
        "prefix = ''\n",
        "suffix = 'r'\n",
        "\n",
        "createSUVrImg_PMOD(in_outDir, 'test_data-SUV', 0.6087618, in_outDir, prefix, suffix)"
      ],
      "metadata": {
        "id": "fHRULW7ktpy5"
      },
      "execution_count": null,
      "outputs": []
    },
    {
      "cell_type": "markdown",
      "source": [
        "# 07. 群の平均画像を作製するための関数\n",
        "---\n",
        "　群間比較を行った際、各群の平均画像が欲しい場合が多いと思われます。\n",
        "\n",
        "　この関数は指定した個体データの平均画像を作製することが出来ます。"
      ],
      "metadata": {
        "id": "unceNhuHtuPa"
      }
    },
    {
      "cell_type": "code",
      "source": [
        "def createMeanImg(inputDir, inputFileArray, outputDir, outputFile):\n",
        "    #inputDir : 入力ファイルのあるディレクトリ\n",
        "    #inputFileArray : 入力ファイル名（4D NIfTI形式）をnumpy.Array形式で与える\n",
        "    #outputDir : 出力ディレクトリの指定\n",
        "    #outputFile : 出力ファイル名\n",
        "    \n",
        "    # num of input file\n",
        "    numInputFlile = inputFileArray.shape[0]\n",
        "    \n",
        "    # first import of 4D NIfTI\n",
        "    niimg = load_img(inputDir + '/' + inputFileArray[0] + '.nii')\n",
        "    print('Processed: ' + inputFileArray[0] + '.nii')\n",
        "    \n",
        "    # 読み込んだ画像はNiBabel形式なのでNumpy.Array形式で扱えるようにする\n",
        "    ImgArryData = niimg.get_fdata()\n",
        "    \n",
        "    # next import of 4D NIfTI (loop)\n",
        "    for inputFile in range(1, numInputFlile):\n",
        "        nextNiimg = load_img(inputDir + '/' + inputFileArray[inputFile] + '.nii')        \n",
        "        nextImgArryData = nextNiimg.get_fdata()\n",
        "\n",
        "        # 加算\n",
        "        ImgArryData = ImgArryData + nextImgArryData\n",
        "        print('Processed: ' + inputFileArray[inputFile] + '.nii')\n",
        "    \n",
        "    # 平均\n",
        "    MeanImg = ImgArryData/numInputFlile\n",
        "    print('Total ' + str(numInputFlile) + ' images')\n",
        "        \n",
        "    # 読み込みデータからヘッダーのコピーを作製\n",
        "    new_header = niimg.header.copy()\n",
        "\n",
        "    # NumpyArrayからNIfTI形式に変換\n",
        "    ConvertImg = nib.Nifti1Image(MeanImg, affine=niimg.header.get_best_affine(), header=new_header)\n",
        "\n",
        "    # seve mean image\n",
        "    # .niiとして出力\n",
        "    outputPathName = outputDir + '/' + outputFile + '.nii'\n",
        "    nib.save(ConvertImg, os.path.join(outputPathName))\n"
      ],
      "metadata": {
        "id": "04aVhyC3txCr"
      },
      "execution_count": null,
      "outputs": []
    },
    {
      "cell_type": "markdown",
      "source": [
        "以下、実行例です。"
      ],
      "metadata": {
        "id": "KpwubU1wbS41"
      }
    },
    {
      "cell_type": "code",
      "source": [
        "in_outDir = './static'\n",
        "\n",
        "createMeanImg(in_outDir, np.array(['test_data00-SUVr',\n",
        "                                   'test_data01-SUVr',\n",
        "                                   'test_data02-SUVr',\n",
        "                                   'test_data03-SUVr']), in_outDir, 'Mean_test_data-SUVr')"
      ],
      "metadata": {
        "id": "mYDaQfrKt7dj"
      },
      "execution_count": null,
      "outputs": []
    },
    {
      "cell_type": "markdown",
      "source": [
        "# 08. 反転をするための関数(アフィン行列を修正して見た目だけ反転させる方法　→　元画像は反転しない)\n",
        "---\n",
        "　ClairvivoPET/CTでは必要ありませんが、機種によっては必要になる場合があるかと思います。\n",
        "\n",
        "　反転をするための関数はこの08．と次項の09．の2種類を用意しました。\n",
        "\n",
        "　この項ではヘッダーのアフィン行列を修正して見た目だけ反転させ、元画像は反転させない方法になります。"
      ],
      "metadata": {
        "id": "SMozscYZuAa6"
      }
    },
    {
      "cell_type": "code",
      "source": [
        "def InvertAxis(inputDir, inputFile, TransformMatrix, outputDir, prefix, suffix):\n",
        "    #inputDir : 入力ファイルのあるディレクトリ\n",
        "    #inputFile : 入力ファイル（4D NIfTI形式）\n",
        "    #TransformMatrix : affine変換行列（4x4）\n",
        "    #outputDir : 出力ディレクトリの指定\n",
        "    #prefix : 出力ファイル名の接頭語\n",
        "    #suffix : 出力ファイル名の接尾語\n",
        "    \n",
        "    # import 4D NIfTI\n",
        "    niimg = load_img(inputDir + '/' + inputFile + '.nii')\n",
        "    \n",
        "    # 読み込んだ画像はNiBabel形式なのでNumpy.Array形式で扱えるようにする\n",
        "    ImgArryData = niimg.get_fdata()\n",
        "\n",
        "    # affine変換後の回転成分を計算\n",
        "    # 変換行列にオリジナルのaffine行列をかける、順番に注意\n",
        "    newAffineMatrix = np.dot(niimg.header.get_best_affine(), TransformMatrix)\n",
        "\n",
        "    # 読み込みデータからヘッダーのコピーを作製\n",
        "    new_header = niimg.header.copy()\n",
        "\n",
        "    # NumpyArrayからNIfTI形式に変換\n",
        "    ConvertImg = nib.Nifti1Image(ImgArryData, affine=newAffineMatrix, header=new_header)\n",
        "    print('Completed: ' + '/' + inputFile + '.nii')\n",
        "\n",
        "    # .niiとして出力\n",
        "    outputPathName = outputDir + '/' + prefix + inputFile + suffix + '.nii'\n",
        "    nib.save(ConvertImg, os.path.join(outputPathName))"
      ],
      "metadata": {
        "id": "XTJPjpVzuC0u"
      },
      "execution_count": null,
      "outputs": []
    },
    {
      "cell_type": "markdown",
      "source": [
        "以下、実行例です。\n",
        "\n",
        "ここではx軸で反転（左右反転）させる方法についての例です。\n",
        "\n",
        "反転したい軸に合わせて引数`TransformMatrix`の行列を変更します（以下の`FlipLR`の部分）。"
      ],
      "metadata": {
        "id": "T25JOgFbdG-D"
      }
    },
    {
      "cell_type": "code",
      "source": [
        "# x軸で反転させる場合\n",
        "FlipLR = np.array([[-1, 0, 0, 0],\n",
        "                   [0, 1, 0, 0],\n",
        "                   [0, 0, 1, 0],\n",
        "                   [0, 0, 0, 1]])\n",
        "\n",
        "in_outDir = './static'\n",
        "prefix = ''\n",
        "suffix = '_FlipLR'\n",
        "\n",
        "InvertAxis(in_outDir, 'Mean_test_data-SUVr', FlipLR, in_outDir, prefix, suffix)"
      ],
      "metadata": {
        "id": "EM-6xZaEuHqs"
      },
      "execution_count": null,
      "outputs": []
    },
    {
      "cell_type": "markdown",
      "source": [
        "# 09. 反転をするための関数(アフィン行列は編集せずに元画像を反転させる方法)\n",
        "---\n",
        "　上記08．と似ていますが、こちらはヘッダーにあるアフィン行列情報は編集せずに元画像を反転させる方法となります。"
      ],
      "metadata": {
        "id": "-3hri7qSuJy9"
      }
    },
    {
      "cell_type": "code",
      "source": [
        "def InvertAxisV2(inputDir, inputFile, TransformAxis, outputDir, prefix, suffix):\n",
        "    #inputDir : 入力ファイルのあるディレクトリ\n",
        "    #inputFile : 入力ファイル（4D NIfTI形式）\n",
        "    #TransformAxis : x = 0, y = 1, z = 2\n",
        "    #outputDir : 出力ディレクトリの指定\n",
        "    #prefix : 出力ファイル名の接頭語\n",
        "    #suffix : 出力ファイル名の接尾語\n",
        "    \n",
        "    # import 4D NIfTI\n",
        "    niimg = load_img(inputDir + '/' + inputFile + '.nii')\n",
        "    \n",
        "    # 読み込んだ画像はNiBabel形式なのでNumpy.Array形式で扱えるようにする\n",
        "    ImgArryData = niimg.get_fdata()\n",
        "    \n",
        "    # 反転処理\n",
        "    ImgArryData = np.flip(ImgArryData, TransformAxis)\n",
        "\n",
        "    # affine変換後の回転成分を計算\n",
        "    # 変換行列にオリジナルのaffine行列をかける、順番に注意\n",
        "    newAffineMatrix = niimg.header.get_best_affine()\n",
        "\n",
        "    # 読み込みデータからヘッダーのコピーを作製\n",
        "    new_header = niimg.header.copy()\n",
        "\n",
        "    # NumpyArrayからNIfTI形式に変換\n",
        "    ConvertImg = nib.Nifti1Image(ImgArryData, affine=newAffineMatrix, header=new_header)\n",
        "    print('Completed: ' + '/' + inputFile + '.nii')\n",
        "\n",
        "    # .niiとして出力\n",
        "    outputPathName = outputDir + '/' + prefix + inputFile + suffix + '.nii'\n",
        "    nib.save(ConvertImg, os.path.join(outputPathName))"
      ],
      "metadata": {
        "id": "9KdFOKPeuOk0"
      },
      "execution_count": null,
      "outputs": []
    },
    {
      "cell_type": "markdown",
      "source": [
        "以下、実行例です。\n",
        "\n",
        "08．と同様にx軸で反転させる場合を示します。\n",
        "\n",
        "※　上記08．のパラメーター変数`FlipLR`が定義済みという前提です。"
      ],
      "metadata": {
        "id": "SXpnIM8xeFM-"
      }
    },
    {
      "cell_type": "code",
      "source": [
        "in_outDir = './static'\n",
        "prefix = ''\n",
        "suffix = '_FlipLR'\n",
        "\n",
        "# x軸で反転させる場合\n",
        "InvertAxisV2(in_outDir, 'Mean_K2_Stc_PreScan_n4', 0, in_outDir, prefix, suffix)"
      ],
      "metadata": {
        "id": "jtF7mORVuQ2u"
      },
      "execution_count": null,
      "outputs": []
    },
    {
      "cell_type": "markdown",
      "source": [
        "# 10. 差分画像を作製するための関数\n",
        "---\n",
        "　2つの画像を読み込み引き算することで差分画像を作製します。\n",
        "\n",
        "　2つの画像は同じディレクトリに置いておく必要があります。"
      ],
      "metadata": {
        "id": "5HQgq3l3uS5W"
      }
    },
    {
      "cell_type": "code",
      "source": [
        "def CalcDifferenceImg(inputDir, InputFileNameA, InputFileNameB, outputDir, outputFileName):\n",
        "    # inputDir : 入力画像のパス\n",
        "    # InputFileNameA : 入力画像のファイル名（引かれる側）\n",
        "    # InputFileNameB : 入力画像のファイル名（引く側）\n",
        "    #      →　A - B　となる\n",
        "    # outputDir : 差分画像の出力先パス\n",
        "    # outputFileName : 差分画像のファイル名\n",
        "    \n",
        "    # import 4D NIfTI\n",
        "    tmpLoadImgA = nib.load(inputDir + '/' + InputFileNameA + '.nii')\n",
        "    tmpLoadImgB = nib.load(inputDir + '/' + InputFileNameB + '.nii')\n",
        "    \n",
        "    # 読み込んだ画像はNiBabel形式なのでNumpy.Array形式で扱えるようにする\n",
        "    LoadImgArryDataA = tmpLoadImgA.get_fdata()\n",
        "    LoadImgArryDataB = tmpLoadImgB.get_fdata()\n",
        "    \n",
        "    # 2つの画像の差分を計算する\n",
        "    CalcImg = LoadImgArryDataA - LoadImgArryDataB\n",
        "    \n",
        "    # 読み込んだ画像からアフィン変換に必要な行列を取得\n",
        "    # NumpyArrayからNIfTI形式に変換する\n",
        "    ConvertImg = nib.Nifti1Image(CalcImg, affine=tmpLoadImgA.header.get_best_affine())\n",
        "    \n",
        "    # .niiとして出力\n",
        "    outputPathName = outputDir + '/' + outputFileName + '.nii'\n",
        "    nib.save(ConvertImg, os.path.join(outputPathName))"
      ],
      "metadata": {
        "id": "xoss4_JnuUZg"
      },
      "execution_count": null,
      "outputs": []
    },
    {
      "cell_type": "markdown",
      "source": [
        "以下、実行例です。\n",
        "\n",
        "ここでは `test_data00-SUVr` から `test_data01-SUVr` を引いた画像を作る場合を示します。\n"
      ],
      "metadata": {
        "id": "ZbZ_lmX-1uAe"
      }
    },
    {
      "cell_type": "code",
      "source": [
        "'''input Parameters'''\n",
        "inputDir = './static'\n",
        "InputFileName1 = 'test_data00-SUVr'\n",
        "InputFileName2 = 'test_data01-SUVr'\n",
        "\n",
        "'''output Parameters & Execute'''\n",
        "outputDir = './static'\n",
        "outputFileName = 'DifferenceImg_test_data00-01_SUVr'\n",
        "\n",
        "CalcDifferenceImg(inputDir, InputFileName1, InputFileName2, outputDir, outputFileName)"
      ],
      "metadata": {
        "id": "lR7l8kNmudBn"
      },
      "execution_count": null,
      "outputs": []
    },
    {
      "cell_type": "markdown",
      "source": [
        "# 11. 割合（百分率）画像を作製するための関数\n",
        "---\n",
        "　2つの画像を読み込み割り算することで割合（百分率）画像を作製します。\n",
        "\n",
        "　2つの画像は同じディレクトリに置いておく必要があります。"
      ],
      "metadata": {
        "id": "BGxXZQGwufOY"
      }
    },
    {
      "cell_type": "code",
      "source": [
        "def CalcRatioImg(inputDir, InputFileNameA, InputFileNameB, outputDir, outputFileName):\n",
        "    # inputDir : 入力画像のパス\n",
        "    # InputFileNameA : 入力画像のファイル名（分子となる画像）\n",
        "    # InputFileNameB : 入力画像のファイル名（分母となる画像）\n",
        "    #      →　A / B　となる\n",
        "    # outputDir : 割合画像の出力先パス\n",
        "    # outputFileName : 割合画像のファイル名\n",
        "\n",
        "    # import 4D NIfTI\n",
        "    tmpLoadImgA = nib.load(inputDir + '/' + InputFileNameA + '.nii')\n",
        "    tmpLoadImgB = nib.load(inputDir + '/' + InputFileNameB + '.nii')\n",
        "    \n",
        "    # 読み込んだ画像はNiBabel形式なのでNumpy.Array形式で扱えるようにする\n",
        "    LoadImgArryDataA = tmpLoadImgA.get_fdata()\n",
        "    LoadImgArryDataB = tmpLoadImgB.get_fdata()\n",
        "    \n",
        "    # 画像Bに対する画像Aの割合を計算する\n",
        "    CalcImg = (LoadImgArryDataA/LoadImgArryDataB)*100\n",
        "    \n",
        "    # 読み込んだ画像からアフィン変換に必要な行列を取得\n",
        "    # NumpyArrayからNIfTI形式に変換する\n",
        "    ConvertImg = nib.Nifti1Image(CalcImg, affine=tmpLoadImgA.header.get_best_affine())\n",
        "    \n",
        "    # .niiとして出力\n",
        "    outputPathName = outputDir + '/' + outputFileName + '.nii'\n",
        "    nib.save(ConvertImg, os.path.join(outputPathName))"
      ],
      "metadata": {
        "id": "Q3PhLhD6ulR_"
      },
      "execution_count": null,
      "outputs": []
    },
    {
      "cell_type": "markdown",
      "source": [
        "以下、実行例です。\n",
        "\n",
        "ここでは `test_data00-SUVr` を `test_data01-SUVr` で割った画像を作る場合を示します。\n"
      ],
      "metadata": {
        "id": "uc2cReZn3c9Q"
      }
    },
    {
      "cell_type": "code",
      "source": [
        "'''input Parameters'''\n",
        "inputDir = './static'\n",
        "InputFileName1 = 'test_data00-SUVr'\n",
        "InputFileName2 = 'test_data01-SUVr'\n",
        "\n",
        "'''output Parameters & Execute'''\n",
        "outputDir = './static'\n",
        "outputFileName = 'RatioImg_test_data00per01_SUVr'\n",
        "\n",
        "CalcRatioImg(inputDir, InputFileName1, InputFileName2, outputDir, outputFileName)"
      ],
      "metadata": {
        "id": "aPUlOczAunzg"
      },
      "execution_count": null,
      "outputs": []
    },
    {
      "cell_type": "markdown",
      "source": [
        "# 12. マスク適用画像を作製するための関数\n",
        "---\n",
        "　マスク画像とマスクをかけたい（適用したい）画像を読み込みます。\n",
        "\n",
        "　2つの画像は同じディレクトリに置いておく必要があります。\n",
        "\n",
        "　マスク画像とマスクを適用したい画像のshapeが一致していないと処理を実行することができません。\n",
        "\n",
        "　shapeが一致しない場合はClopping処理を行い一致させるようにしてください。"
      ],
      "metadata": {
        "id": "1ByvNrjJuqIK"
      }
    },
    {
      "cell_type": "code",
      "source": [
        "def CalcMaskImg(MaskFilePathName, inputDir, inputFile, outputDir, prefix, suffix):\n",
        "    # MaskFilePathName : マスク画像のパス名含むファイル名（フルパス）\n",
        "    # inputDir : マスク適用画像のあるディレクトリ\n",
        "    # inputFile : マスク適用画像のファイル名\n",
        "    # outputDir : マスク適用画像の出力ディレクトリ\n",
        "    #　prefix : 出力ファイル名の接頭語\n",
        "    #　suffix : 出力ファイル名の接尾語\n",
        "\n",
        "    tmpLoadImgMask = nib.load(MaskFilePathName)\n",
        "    tmpLoadImg = nib.load(inputDir + '/' + inputFile + '.nii')\n",
        "    \n",
        "    # 読み込んだ画像はNiBabel形式なのでNumpy.Array形式で扱えるようにする\n",
        "    LoadImgArryDataMask = tmpLoadImgMask.get_fdata()\n",
        "    LoadImgArryData = tmpLoadImg.get_fdata()\n",
        "    \n",
        "    # マスク画像とマスクを適用したい画像のshapeが一致していないと処理ができない\n",
        "    # 一致していない場合は以下の1行を編集して使用すること\n",
        "    # np.delete()の第2引数は削除したいスライス位置、第3引数は0=行、1=列、2=行列の削除を表す\n",
        "    # 通常はこの1行はコメントアウトしておくこと\n",
        "    LoadImgArryDataMask = np.delete(LoadImgArryDataMask, 96, 2) # 今回はマスク以外のテンプレートが(96,120,96)なのでそれに合わせた\n",
        "    \n",
        "    # 上記のイレギュラー処理が必要な場合はコンソールに警告を出す\n",
        "    if (tmpLoadImg.shape == tmpLoadImgMask.shape):\n",
        "        pass\n",
        "    else:\n",
        "        print('******************************************************')\n",
        "        print('：：：警告：：：')\n",
        "        print('')\n",
        "        print('マスク画像とマスクを適用したい画像のshapeが一致していません！')\n",
        "        print('関数内のnp.delete()を適切に編集してshapeが同じになるようにしてください。')\n",
        "        print('******************************************************')\n",
        "        print('')\n",
        "\n",
        "    # 画像Bに対する画像Aの割合を計算する（マスクを欠けた部分を0にする）\n",
        "    CalcImg = LoadImgArryData*LoadImgArryDataMask\n",
        "    \n",
        "    # 読み込みデータからヘッダーのコピーを作製\n",
        "    new_header = tmpLoadImg.header.copy()\n",
        "\n",
        "    # 読み込んだ画像からアフィン変換に必要な行列を取得\n",
        "    # NumpyArrayからNIfTI形式に変換する\n",
        "    ConvertImg = nib.Nifti1Image(CalcImg, affine=tmpLoadImg.header.get_best_affine(), header=new_header)\n",
        "    \n",
        "    print('Completed: ' + '/' + inputFile + '.nii')\n",
        "\n",
        "    # .niiとして出力\n",
        "    outputDir + '/' + prefix + inputFile + suffix + '.nii'\n",
        "    outputPathName = outputDir + '/' + prefix + inputFile + suffix + '.nii'\n",
        "    nib.save(ConvertImg, os.path.join(outputPathName))"
      ],
      "metadata": {
        "id": "76gg3Ejkuvsy"
      },
      "execution_count": null,
      "outputs": []
    },
    {
      "cell_type": "markdown",
      "source": [
        "以下、実行例です。\n",
        "\n",
        "ここではSAMITのラット解析用に用意されているマスク画像 `Schwarz_intracranialMask.nii` を利用した場合を示します。"
      ],
      "metadata": {
        "id": "VGikSHAq5BbB"
      }
    },
    {
      "cell_type": "code",
      "source": [
        "MaskFilePathName = './Schwarz_intracranialMask.nii' # マスク画像のパス\n",
        "\n",
        "in_outDir = './static'\n",
        "prefix = 'Msk_'\n",
        "suffix = ''\n",
        "\n",
        "CalcMaskImg(MaskFilePathName, in_outDir, 'test_data00-SUVr', in_outDir, prefix, suffix)"
      ],
      "metadata": {
        "id": "03mqQaL-uybC"
      },
      "execution_count": null,
      "outputs": []
    }
  ]
}